{
 "cells": [
  {
   "cell_type": "code",
   "execution_count": null,
   "id": "aa88e913",
   "metadata": {},
   "outputs": [],
   "source": [
    "import numpy as np\n",
    "import pandas as pd\n",
    "from sklearn.ensemble import GradientBoostingClassifier\n",
    "from sklearn.linear_model import LogisticRegression\n",
    "from lightgbm import LGBMClassifier\n",
    "from xgboost import XGBClassifier\n",
    "from catboost import CatBoostClassifier\n",
    "from sklearn.model_selection import GridSearchCV\n",
    "from sklearn.ensemble import VotingClassifier\n",
    "\n",
    "import pandas as pd\n",
    "import random\n",
    "import os\n",
    "import numpy as np\n",
    "\n",
    "from sklearn.linear_model import LinearRegression\n",
    "from sklearn.multioutput import MultiOutputRegressor\n",
    "\n",
    "import xgboost as xgb\n",
    "import random"
   ]
  },
  {
   "cell_type": "code",
   "execution_count": null,
   "id": "473ae8ba",
   "metadata": {},
   "outputs": [],
   "source": [
    "import jinja2\n",
    "import datetime as dt\n",
    "import matplotlib.pyplot as plt\n",
    "from tqdm import tqdm\n",
    "import gc\n",
    "import random\n",
    "import lightgbm as lgb\n",
    "import re\n",
    "from sklearn.metrics import *\n",
    "from sklearn.model_selection import KFold\n",
    "import warnings\n",
    "warnings.filterwarnings(action='ignore')\n",
    "\n",
    "from pycaret.classification import * "
   ]
  },
  {
   "cell_type": "code",
   "execution_count": null,
   "id": "9755fffa",
   "metadata": {},
   "outputs": [],
   "source": [
    "train = pd.read_excel('./dataset_0914.xlsx',engine ='openpyxl')\n",
    "# test = label_encoder(test, make_label_map(test))\n",
    "train = train.drop('number', axis=1)\n",
    "train.head()"
   ]
  },
  {
   "cell_type": "code",
   "execution_count": null,
   "id": "4f0eae14",
   "metadata": {},
   "outputs": [],
   "source": [
    "def check_missing_col(dataframe):\n",
    "    missing_col = []\n",
    "    for col in dataframe.columns:\n",
    "        missing_values = sum(dataframe[col].isna())\n",
    "        is_missing = True if missing_values >= 1 else False\n",
    "        if is_missing:\n",
    "            print(f'결측치가 있는 컬럼은: {col} 입니다')\n",
    "            print(f'해당 컬럼에 총 {missing_values} 개의 결측치가 존재합니다.')\n",
    "            missing_col.append([col, dataframe[col].dtype])\n",
    "    if missing_col == []:\n",
    "        print('결측치가 존재하지 않습니다')\n",
    "    return missing_col\n",
    "\n",
    "missing_col = check_missing_col(train)\n",
    "\n",
    "# missing_col_test = check_missing_col(test)\n"
   ]
  },
  {
   "cell_type": "code",
   "execution_count": null,
   "id": "f4780d9d",
   "metadata": {},
   "outputs": [],
   "source": [
    "# 결측치를 처리하는 함수를 작성합니다.\n",
    "def handle_na(data, missing_col):\n",
    "    temp = data.copy()\n",
    "    for col, dtype in missing_col:\n",
    "        if dtype == 'O':\n",
    "            # 범주형 feature가 결측치인 경우 해당 행들을 삭제해 주었습니다.\n",
    "            temp = temp.dropna(subset=[col])\n",
    "    return temp\n",
    "\n",
    "train = handle_na(train, missing_col)\n",
    "\n",
    "# 결측치 처리가 잘 되었는지 확인해 줍니다.\n",
    "missing_col = check_missing_col(train) "
   ]
  },
  {
   "cell_type": "code",
   "execution_count": null,
   "id": "aab48819",
   "metadata": {},
   "outputs": [],
   "source": [
    "from sklearn.model_selection import train_test_split\n",
    "\n",
    "train = train.drop('Mortality', axis = 1).copy() #필요없는 id열 삭제\n",
    "# train = train.drop('modified_GIB', axis = 1).copy() #필요없는 id열 삭제\n",
    "# train = train.drop('GIB', axis = 1).copy() #필요없는 id열 삭제\n",
    "train = train.drop('Intracranial hemorrhage', axis = 1).copy() #필요없는 id열 삭제\n",
    "train = train.drop('D6', axis = 1).copy() #필요없는 id열 삭제\n",
    "# train = train.drop('Transfusion', axis = 1).copy() #필요없는 id열 삭제\n",
    "\n",
    "\n",
    "\n",
    "\n",
    "\n",
    "# train = train.drop('Lab-Creatinine', axis = 1).copy() #필요없는 id열 삭제\n",
    "# train = train.drop('Lab-Albumin', axis = 1).copy() #필요없는 id열 삭제\n",
    "# train = train.drop('Lab-Hemoglobin', axis = 1).copy() #필요없는 id열 삭제\n",
    "# train = train.drop('Lab-INR', axis = 1).copy() #필요없는 id열 삭제"
   ]
  },
  {
   "cell_type": "code",
   "execution_count": null,
   "id": "9eacf074",
   "metadata": {},
   "outputs": [],
   "source": [
    "train"
   ]
  },
  {
   "cell_type": "code",
   "execution_count": null,
   "id": "3d2c52bb",
   "metadata": {},
   "outputs": [],
   "source": [
    "#### test폴더 따로 있으면 사용\n",
    "#train_data, val_data = train_test_split(data, test_size=0.5)\n",
    "# train_data = data\n",
    "# val_data = test\n",
    "# train_data.reset_index(inplace=True) #전처리 과정에서 데이터가 뒤섞이지 않도록 인덱스를 초기화\n",
    "# val_data.reset_index(inplace=True)\n",
    "\n",
    "\n",
    "#### default\n",
    "# train.modified_GIB_event = train.modified_GIB_event.replace({1:1, 2:0})\n",
    "train.GIB = train.GIB.replace({1:1, 2:0})\n",
    "\n",
    "train_dataset, test_dataset = train_test_split(train, test_size=0.3,shuffle=True,random_state=15)\n",
    "train_data = train_dataset\n",
    "test_data = test_dataset\n",
    "\n",
    "train_data.reset_index(inplace=True) #전처리 과정에서 데이터가 뒤섞이지 않도록 인덱스를 초기화\n",
    "test_data.reset_index(inplace=True)\n",
    "\n",
    "train_data = train_data.drop('index', axis = 1).copy() #필요없는 id열 삭제\n",
    "test_data = test_data.drop('index', axis = 1).copy() #필요없는 id열 삭제"
   ]
  },
  {
   "cell_type": "code",
   "execution_count": null,
   "id": "4ca68640",
   "metadata": {},
   "outputs": [],
   "source": [
    "print( 'train 데이터 셋 모양 :', train_data.shape)\n",
    "print( 'test 데이터 셋 모양 :', test_data.shape)\n",
    "\n",
    "# print(train_data.modified_GIB_event.value_counts(), test_data.modified_GIB_event.value_counts())\n",
    "print(train_data.GIB.value_counts(), test_data.GIB.value_counts())"
   ]
  },
  {
   "cell_type": "code",
   "execution_count": null,
   "id": "ccaecd26",
   "metadata": {},
   "outputs": [],
   "source": [
    "# clf = setup(data = train_data, target = 'modified_GIB_event',normalize = True ,session_id=123,silent=True)\n",
    "clf = setup(data = train_data, target = 'GIB',normalize = True ,session_id=123,silent=True,use_gpu = False )"
   ]
  },
  {
   "cell_type": "code",
   "execution_count": null,
   "id": "8b905aed",
   "metadata": {},
   "outputs": [],
   "source": [
    "compare_models(sort = 'AUC')"
   ]
  },
  {
   "cell_type": "code",
   "execution_count": null,
   "id": "67e80f66",
   "metadata": {},
   "outputs": [],
   "source": [
    "# 모델 생성하기\n",
    "ada = create_model('et', cross_validation = False)"
   ]
  },
  {
   "cell_type": "code",
   "execution_count": null,
   "id": "62752f52",
   "metadata": {},
   "outputs": [],
   "source": [
    "gbc = create_model('gbc', cross_validation = False)"
   ]
  },
  {
   "cell_type": "code",
   "execution_count": null,
   "id": "95bb9551",
   "metadata": {},
   "outputs": [],
   "source": [
    "lr = create_model('lr', cross_validation = False)"
   ]
  },
  {
   "cell_type": "code",
   "execution_count": null,
   "id": "00aaac91",
   "metadata": {},
   "outputs": [],
   "source": [
    "# 하이퍼파라미터 튜닝\n",
    "tuned_ada = tune_model(ada,optimize='AUC', n_iter = 200)"
   ]
  },
  {
   "cell_type": "code",
   "execution_count": null,
   "id": "c511e413",
   "metadata": {},
   "outputs": [],
   "source": [
    "tuned_gbc = tune_model(gbc,optimize='AUC', n_iter = 200)"
   ]
  },
  {
   "cell_type": "code",
   "execution_count": null,
   "id": "b081ca93",
   "metadata": {},
   "outputs": [],
   "source": [
    "tuned_lr = tune_model(lr,optimize='AUC', n_iter = 200)"
   ]
  },
  {
   "cell_type": "code",
   "execution_count": null,
   "id": "3ae8fe78",
   "metadata": {},
   "outputs": [],
   "source": [
    "blender_specific = blend_models(estimator_list = [tuned_gbc,tuned_ada,tuned_lr], optimize = 'AUC')\n",
    "\n",
    "final_model = finalize_model(blender_specific)"
   ]
  },
  {
   "cell_type": "code",
   "execution_count": null,
   "id": "1c4410da",
   "metadata": {},
   "outputs": [],
   "source": [
    "pred = predict_model(tuned_ada, data = test_data)"
   ]
  },
  {
   "cell_type": "code",
   "execution_count": null,
   "id": "73832902",
   "metadata": {},
   "outputs": [],
   "source": [
    "plt.figure(figsize = (200,9))\n",
    "plot_model(estimator =tuned_gbc, plot = 'feature')\n",
    "plt.show()\n"
   ]
  },
  {
   "cell_type": "code",
   "execution_count": null,
   "id": "02d923e0",
   "metadata": {},
   "outputs": [],
   "source": []
  },
  {
   "cell_type": "markdown",
   "id": "1fa321d7",
   "metadata": {},
   "source": [
    "# AutoML 시작!!"
   ]
  },
  {
   "cell_type": "code",
   "execution_count": null,
   "id": "09b30783",
   "metadata": {},
   "outputs": [],
   "source": [
    "#### 1. h2o 분석 준비하기 ####\n",
    "import numpy as np\n",
    "import pandas as pd\n",
    "from sklearn.model_selection import train_test_split\n",
    "import time\n",
    "import h2o\n",
    "from h2o.automl import H2OAutoML\n",
    "from h2o.estimators.gbm import H2OGradientBoostingEstimator\n",
    "%matplotlib inline\n",
    "h2o.init( min_mem_size= 16,max_mem_size = 16)\n",
    "h2o.no_progress()\n",
    "# H2O 클러스터 가동 시간, 시간대, 버전, 버전 수명, 클러스터 이름, 할당 된 하드웨어 리소스 (노드 수, 메모리, 코어 수), 연결 URL, 노출 된 H2O API 확장 및 사용 된 파이썬 버전과 같은 추가 정보가 출력"
   ]
  },
  {
   "cell_type": "code",
   "execution_count": null,
   "id": "6b1ab465",
   "metadata": {},
   "outputs": [],
   "source": [
    "# data_df을 8:2로 나눈다, 50 : 13\n",
    "train, valid = train_test_split(train_data,\n",
    "                                test_size=0.2, \n",
    "                                shuffle=True)\n"
   ]
  },
  {
   "cell_type": "code",
   "execution_count": null,
   "id": "a48a0beb",
   "metadata": {},
   "outputs": [],
   "source": [
    "max_runtime_secs = 60*60*16"
   ]
  },
  {
   "cell_type": "code",
   "execution_count": null,
   "id": "f239cc02",
   "metadata": {
    "scrolled": true
   },
   "outputs": [],
   "source": [
    "len(train_dataset), len(train),len(valid),len(test_dataset)"
   ]
  },
  {
   "cell_type": "code",
   "execution_count": null,
   "id": "1984228b",
   "metadata": {},
   "outputs": [],
   "source": [
    "clf[3]"
   ]
  },
  {
   "cell_type": "code",
   "execution_count": null,
   "id": "4b34b1d4",
   "metadata": {
    "scrolled": true
   },
   "outputs": [],
   "source": [
    "%%time\n",
    "################################################################\n",
    "## make dataset\n",
    "# Identify the response and set of predictors\n",
    "y = \"GIB\"\n",
    "x = list(train.columns)  #if x is defined as all columns except the response, then x is not required\n",
    "x.remove(y)\n",
    "\n",
    "h2o_train = h2o.H2OFrame(train)\n",
    "h2o_valid = h2o.H2OFrame(valid)\n",
    "\n",
    "# For binary classification, response should be a factor\n",
    "h2o_train[y] = h2o_train[y].asfactor()\n",
    "h2o_valid[y] = h2o_valid[y].asfactor()\n",
    "\n",
    "################################################################    \n",
    "## Run AutoML for 120 seconds\n",
    "aml = H2OAutoML(max_runtime_secs=max_runtime_secs, exclude_algos =['DRF','GLM'])\n",
    "# aml = H2OAutoML(max_runtime_secs=max_runtime_secs,max_runtime_secs_per_model = int(max_runtime_secs/10), seed=1)\n",
    "aml.train(x = x, y = y, training_frame=h2o_train, leaderboard_frame=h2o_valid)\n",
    "################################################################\n",
    "## save metric\n",
    "\n",
    "\n",
    "\n",
    "\n",
    "# Print Leaderboard (ranked by xval metrics)\n",
    "leaderboard = aml.leaderboard\n",
    "performance = aml.leader.model_performance(h2o_valid)  # (Optional) Evaluate performance on a test set\n",
    "\n",
    "model_id   =aml.leader.model_id  # 최고 모델 명\n",
    "accuracy   =performance.accuracy()  # 정확도\n",
    "precision  =performance.precision()  # precision\n",
    "recall     =performance.recall()  # recall\n",
    "F1         =performance.F1()  # f1\n",
    "auc        =performance.auc()  # auc\n",
    "variable_importance=aml.leader.varimp()  # 중요한 입력 변수\n",
    "\n",
    "print(model_id, accuracy, precision, recall, F1, auc, variable_importance)"
   ]
  },
  {
   "cell_type": "code",
   "execution_count": null,
   "id": "646c2901",
   "metadata": {},
   "outputs": [],
   "source": [
    "print(performance)"
   ]
  },
  {
   "cell_type": "code",
   "execution_count": null,
   "id": "6f42e2ef",
   "metadata": {},
   "outputs": [],
   "source": [
    "## 중요 변수 시각화\n",
    "aml.leader.varimp_plot()\n",
    "\n",
    "## automl 결과 확인\n",
    "# Get AutoML object by `project_name`\n",
    "get_aml = h2o.automl.get_automl(aml.project_name)\n",
    "# Predict with top model from AutoML Leaderboard on a H2OFrame called 'test'\n",
    "label_predicted = get_aml.predict(h2o_valid)\n",
    "print(label_predicted['predict'])\n",
    "print(h2o_valid['GIB'])"
   ]
  },
  {
   "cell_type": "code",
   "execution_count": null,
   "id": "db49e7db",
   "metadata": {},
   "outputs": [],
   "source": [
    "h2o_test = h2o.H2OFrame(test_data)\n",
    "\n",
    "# For binary classification, response should be a factor\n",
    "# h2o_test[y] = h2o_test[y].asfactor()\n",
    "\n",
    "# Predict with top model from AutoML Leaderboard on a H2OFrame called 'test'\n",
    "label_predicted = get_aml.predict(h2o_test)\n",
    "# print(label_predicted['predict'])\n",
    "# print(h2o_valid['nerdiness'])"
   ]
  },
  {
   "cell_type": "code",
   "execution_count": null,
   "id": "ef125fb7",
   "metadata": {},
   "outputs": [],
   "source": [
    "performance = aml.leader.model_performance(h2o_test)\n",
    "performance"
   ]
  },
  {
   "cell_type": "code",
   "execution_count": null,
   "id": "19f74701",
   "metadata": {},
   "outputs": [],
   "source": [
    "len(label_predicted)"
   ]
  },
  {
   "cell_type": "code",
   "execution_count": null,
   "id": "668cd3c9",
   "metadata": {},
   "outputs": [],
   "source": [
    "h2o_test = h2o.H2OFrame(test_data)\n",
    "\n",
    "label_predicted = get_aml.predict(h2o_test)\n",
    "print(label_predicted['predict'])\n",
    "print(h2o_valid['GIB'])"
   ]
  },
  {
   "cell_type": "code",
   "execution_count": null,
   "id": "8eda963e",
   "metadata": {},
   "outputs": [],
   "source": []
  },
  {
   "cell_type": "code",
   "execution_count": null,
   "id": "8a188e03",
   "metadata": {},
   "outputs": [],
   "source": []
  }
 ],
 "metadata": {
  "kernelspec": {
   "display_name": "Python 3",
   "language": "python",
   "name": "python3"
  },
  "language_info": {
   "codemirror_mode": {
    "name": "ipython",
    "version": 3
   },
   "file_extension": ".py",
   "mimetype": "text/x-python",
   "name": "python",
   "nbconvert_exporter": "python",
   "pygments_lexer": "ipython3",
   "version": "3.8.8"
  }
 },
 "nbformat": 4,
 "nbformat_minor": 5
}
